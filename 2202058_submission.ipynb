{
 "cells": [
  {
   "cell_type": "code",
   "execution_count": null,
   "id": "ceff9b53",
   "metadata": {},
   "outputs": [
    {
     "name": "stdout",
     "output_type": "stream",
     "text": [
      "5 Number Summary\n",
      "******************\n",
      "\n",
      " min value : 48.375\n",
      "\n",
      " Max Value : 57.375\n",
      "\n",
      " Q1 : 73.5\n",
      "\n",
      " Q2 : 82.5\n",
      "\n",
      " Q3 : 90.25\n"
     ]
    }
   ],
   "source": [
    "import numpy as np\n",
    "exam_scores = np.array([72, 85, 91, 78, 88, 65, 95, 80, 70, 105])\n",
    "sorted_score = sorted(exam_scores)\n",
    "\n",
    "Q1 = np.percentile(sorted_score, 25)\n",
    "Q2 = np.percentile(sorted_score, 50)\n",
    "Q3 = np.percentile(sorted_score, 75)\n",
    "\n",
    "IQR = Q3 - Q1\n",
    "\n",
    "min_value = Q1 - (1.5 * IQR)\n",
    "max_value = Q2 - (1.5 * IQR)\n",
    "\n",
    "print(\"5 Number Summary\")\n",
    "print(\"******************\")\n",
    "\n",
    "print(f\"\\n min value : {min_value}\")\n",
    "print(f\"\\n Max Value : {max_value}\")\n",
    "print(f\"\\n Q1 : {Q1}\")\n",
    "print(f\"\\n Q2 : {Q2}\")\n",
    "print(f\"\\n Q3 : {Q3}\")\n",
    "print(f\"Interquartile Range : {IQR}\")"
   ]
  },
  {
   "cell_type": "code",
   "execution_count": null,
   "id": "06482826",
   "metadata": {},
   "outputs": [
    {
     "data": {
      "image/png": "[encoded data removed]",
      "text/plain": [
       "<Figure size 640x480 with 1 Axes>"
      ]
     },
     "metadata": {},
     "output_type": "display_data"
    }
   ],
   "source": [
    "import matplotlib.pyplot as plt\n",
    "\n",
    "plt.title(\"Box Plot\")\n",
    "plt.boxplot(x = sorted_score, orientation = \"horizontal\")\n",
    "plt.xlabel(\"Exam_Scores\")\n",
    "plt.grid(True)\n",
    "plt.show()"
   ]
  },
  {
   "cell_type": "code",
   "execution_count": 11,
   "id": "7218bf06",
   "metadata": {},
   "outputs": [
    {
     "name": "stdout",
     "output_type": "stream",
     "text": [
      "Coefficient of Variation A : 6.705123241667554\n",
      "Coefficient of Variation B : 24.585451886114367\n",
      "Group A scores are more consistant.\n"
     ]
    }
   ],
   "source": [
    "def co_effi_variation(data):\n",
    "    mean = np.mean(data)\n",
    "    std_dev = np.std(data)\n",
    "    return (std_dev/mean) * 100\n",
    "\n",
    "A = [50, 52, 55, 58, 60]\n",
    "B = [10, 12, 15, 18, 20]\n",
    "\n",
    "CV_A = co_effi_variation(A)\n",
    "CV_B = co_effi_variation(B)\n",
    "print(f\"Coefficient of Variation A : {CV_A}\")\n",
    "print(f\"Coefficient of Variation B : {CV_B}\")\n",
    "\n",
    "if CV_A < CV_B:\n",
    "    print(\"Group A scores are more consistant.\")\n",
    "else:\n",
    "    print(\"Group B scores are more consistant.\")\n",
    "\n"
   ]
  }
 ],
 "metadata": {
  "kernelspec": {
   "display_name": "Python 3",
   "language": "python",
   "name": "python3"
  },
  "language_info": {
   "codemirror_mode": {
    "name": "ipython",
    "version": 3
   },
   "file_extension": ".py",
   "mimetype": "text/x-python",
   "name": "python",
   "nbconvert_exporter": "python",
   "pygments_lexer": "ipython3",
   "version": "3.11.6"
  }
 },
 "nbformat": 4,
 "nbformat_minor": 5
}
